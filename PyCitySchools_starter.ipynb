{
 "cells": [
  {
   "cell_type": "code",
   "execution_count": null,
   "metadata": {},
   "outputs": [],
   "source": [
    "import pandas as pd\n",
    "import numpy as np\n",
    "from pathlib import Path"
   ]
  },
  {
   "cell_type": "code",
   "execution_count": null,
   "metadata": {},
   "outputs": [],
   "source": [
    "school_data_to_load = Path(\"Resources/schools_complete.csv\")\n",
    "student_data_to_load = Path(\"Resources/students_complete.csv\")"
   ]
  },
  {
   "cell_type": "code",
   "execution_count": null,
   "metadata": {},
   "outputs": [],
   "source": [
    "school_data = pd.read_csv(school_data_to_load)\n",
    "student_data = pd.read_csv(student_data_to_load)\n",
    "student_data.head()"
   ]
  },
  {
   "cell_type": "code",
   "execution_count": null,
   "metadata": {},
   "outputs": [],
   "source": [
    "#area-summary\n",
    "Total_School = school_data['school_name'].nunique()\n",
    "Total_Students = student_data['Student ID'].nunique()\n",
    "Total_Budget = school_data['budget'].sum()\n",
    "Average_math_score = student_data[\"maths_score\"].mean()\n",
    "Average_reading_score = student_data[\"reading_score\"].mean()\n",
    "Math_over_50 = student_data.loc[student_data[\"maths_score\"]>= 50]\n",
    "Total_pass = len(Math_over_50)\n",
    "Percent_pass_math = (Total_pass / Total_Students)*100\n",
    "\n",
    "Reading_over_50 = student_data.loc[student_data[\"reading_score\"]>= 50]\n",
    "Total_pass_r = len(Reading_over_50)\n",
    "Percent_pass_reading = (Total_pass_r / Total_Students)*100\n",
    "\n",
    "Overall_pass = student_data.loc[(student_data[\"maths_score\"]>=50) & (student_data[\"reading_score\"]>= 50)\n",
    "    , :]\n",
    "\n",
    "Percentage_total_pass_df = (len(Overall_pass) /Total_Students)*100\n",
    "\n",
    "area_summary = pd.DataFrame([{\"Total School\": Total_School, \"Total Students\":Total_Students, \"Total Budget\":Total_Budget, \"Average maths score\": Average_math_score, \"Average reading score\":Average_reading_score,\"% passing maths\":Percent_pass_math,\"% passing reading\":Percent_pass_reading,\"% overall passing\":Percentage_total_pass_df}])  \n",
    "area_summary"
   ]
  },
  {
   "cell_type": "code",
   "execution_count": null,
   "metadata": {},
   "outputs": [],
   "source": [
    "# Combine the data into a single dataset.  \n",
    "school_data_df = pd.merge(student_data, school_data, how=\"left\", on=[\"school_name\", \"school_name\"])"
   ]
  },
  {
   "cell_type": "code",
   "execution_count": null,
   "metadata": {},
   "outputs": [],
   "source": [
    "#Byschool\n",
    "\n",
    "per_school_type = school_data.groupby([\"school_name\"])[(\"type\")].size()\n",
    "per_school_tstudent = student_data.groupby([\"school_name\"])[(\"student_name\")].size()\n",
    "per_school_tbudget = school_data.groupby([\"school_name\"])[(\"budget\")].sum()\n",
    "budget_by_student = per_school_tbudget / per_school_tstudent\n",
    "per_school_aveg_math = school_data_df.groupby([\"school_name\"])[(\"maths_score\")].mean()\n",
    "per_school_aveg_reading = school_data_df.groupby([\"school_name\"])[(\"reading_score\")].mean()\n",
    "\n",
    "per_school_math_over50 = Math_over_50.groupby([\"school_name\"]).size()\n",
    "Percent_pass_math_byS = (per_school_math_over50 /per_school_tstudent)*100\n",
    "\n",
    "per_school_reading_over50 = Reading_over_50.groupby([\"school_name\"]).size()\n",
    "Percent_pass_math_per_school = (per_school_reading_over50 /per_school_tstudent)*100\n",
    "Percent_pass_reading_byS = (Total_pass_r / Total_Students)*100 \n",
    "\n",
    "per_school_overall_pass_byS = Overall_pass.groupby([\"school_name\"]).size()\n",
    "Percentage_total_pass_byS = (per_school_overall_pass_byS /per_school_tstudent)*100\n",
    "\n",
    "school_type = school_data.groupby([\"school_name\"])[(\"type\")].max()\n",
    "\n",
    "d = {\"School Type\": school_type,\"Total Students\": per_school_tstudent,\"Total School Budget\":per_school_tbudget,\"Per Student Budget\":budget_by_student, \"Average maths score\": per_school_aveg_math, \"Average reading score\": per_school_aveg_reading, \"%Passing Maths\":Percent_pass_math_byS, \"%Passing Reading\":Percent_pass_reading_byS,\"% Overall Passing\":Percentage_total_pass_byS}\n",
    "df2 = pd.DataFrame(data=d) \n",
    "per_school_summary = pd.DataFrame(data=d).style.format({\n",
    "  \"Total School Budget\": lambda val: f'${val:,.2f}', \"Per Student Budget\": lambda val: f'${val:,.2f}'\n",
    "})\n",
    "\n",
    "per_school_summary"
   ]
  },
  {
   "cell_type": "code",
   "execution_count": null,
   "metadata": {},
   "outputs": [],
   "source": [
    "# top_schools\n",
    "df2_sorted = (df2.sort_values(\"% Overall Passing\", ascending=False)).head(5)\n",
    "df2_sorted\n",
    "\n",
    "top_schools = pd.DataFrame(df2_sorted).style.format({\n",
    "  \"Total School Budget\": lambda val: f'${val:,.2f}', \"Per Student Budget\": lambda val: f'${val:,.2f}'})\n",
    "top_schools"
   ]
  },
  {
   "cell_type": "code",
   "execution_count": null,
   "metadata": {},
   "outputs": [],
   "source": [
    "# Reset Index\n",
    "df2_sorted = df2_sorted.reset_index(drop=True)\n",
    "#health_expenditure_sorted_df.head()"
   ]
  },
  {
   "cell_type": "code",
   "execution_count": null,
   "metadata": {},
   "outputs": [],
   "source": [
    "#bottom_schools\n",
    "df2_sorted_b = (df2.sort_values(\"% Overall Passing\", ascending=True)).head(5)\n",
    "df2_sorted_b\n",
    "bottom_schools = pd.DataFrame(df2_sorted_b).style.format({\n",
    "  \"Total School Budget\": lambda val: f'${val:,.2f}', \"Per Student Budget\": lambda val: f'${val:,.2f}'})\n",
    "bottom_schools"
   ]
  },
  {
   "cell_type": "code",
   "execution_count": null,
   "metadata": {},
   "outputs": [],
   "source": [
    "#math_score_by_year\n",
    "aveg_maths_by_year_by_school = student_data.groupby([\"school_name\",\"year\"])[\"maths_score\"].mean()\n",
    "aveg_maths_by_year_by_school\n",
    "\n",
    "math_score_by_year = pd.DataFrame(aveg_maths_by_year_by_school)\n",
    "math_score_by_year\n"
   ]
  },
  {
   "cell_type": "code",
   "execution_count": null,
   "metadata": {},
   "outputs": [],
   "source": [
    "#reading_score_by_year\n",
    "aveg_reading_by_year_by_school = student_data.groupby([\"school_name\",\"year\"])[\"reading_score\"].mean()\n",
    "aveg_reading_by_year_by_school\n",
    "\n",
    "reading_score_by_year = pd.DataFrame(aveg_reading_by_year_by_school)\n",
    "reading_score_by_year"
   ]
  },
  {
   "cell_type": "code",
   "execution_count": null,
   "metadata": {},
   "outputs": [],
   "source": [
    "spending_bins = [0, 585, 630, 645, 680]\n",
    "labels = [\"<$585\", \"$585-630\", \"$630-645\", \"$645-680\"]"
   ]
  },
  {
   "cell_type": "code",
   "execution_count": null,
   "metadata": {},
   "outputs": [],
   "source": [
    "pd.cut(df2[\"Per Student Budget\"],spending_bins,labels=labels).head()"
   ]
  },
  {
   "cell_type": "code",
   "execution_count": null,
   "metadata": {},
   "outputs": [],
   "source": [
    "df2[\"Spending Ranges (Per Student)\"] = pd.cut(df2[\"Per Student Budget\"],spending_bins,labels=labels)\n",
    "df2.head()"
   ]
  },
  {
   "cell_type": "code",
   "execution_count": null,
   "metadata": {},
   "outputs": [],
   "source": [
    "spending_math_scores = df2.groupby([\"Spending Ranges (Per Student)\"])[\"Average maths score\"].mean()\n",
    "spending_reading_scores = df2.groupby([\"Spending Ranges (Per Student)\"])[\"Average reading score\"].mean()\n",
    "spending_passing_math = df2.groupby([\"Spending Ranges (Per Student)\"])[\"%Passing Maths\"].mean()\n",
    "spending_passing_reading = df2.groupby([\"Spending Ranges (Per Student)\"])[\"%Passing Reading\"].mean()\n",
    "overall_passing_spending = df2.groupby([\"Spending Ranges (Per Student)\"])[\"% Overall Passing\"].mean()"
   ]
  },
  {
   "cell_type": "code",
   "execution_count": null,
   "metadata": {},
   "outputs": [],
   "source": [
    "#spending_summary\n",
    "data_set = {\"Average maths score\": spending_math_scores, \"Average reading score\":spending_reading_scores, \"%passing maths\":spending_passing_math, \"% passing reading\": spending_passing_reading, \"% overall passing\":overall_passing_spending}\n",
    "spending_summary_s = pd.DataFrame(data=data_set)\n",
    "spending_summary = pd.DataFrame(data=data_set).style.format({\n",
    "  \"Average maths score\": lambda val: f'{val:,.2f}', \"Average reading score\": lambda val: f'{val:,.2f}',\"%passing maths\": lambda val: f'{val:,.2f}',\"% passing reading\": lambda val: f'{val:,.2f}',\"% overall passing\": lambda val: f'{val:,.2f}'}) \n",
    "spending_summary"
   ]
  },
  {
   "cell_type": "code",
   "execution_count": null,
   "metadata": {},
   "outputs": [],
   "source": [
    "size_bins = [0, 1000, 2000, 5000]\n",
    "labels2 = [\"Small (<1000)\", \"Medium (1000-2000)\", \"Large (2000-5000)\"]"
   ]
  },
  {
   "cell_type": "code",
   "execution_count": null,
   "metadata": {},
   "outputs": [],
   "source": [
    "pd.cut(df2[\"Total Students\"],size_bins,labels=labels2).head()"
   ]
  },
  {
   "cell_type": "code",
   "execution_count": null,
   "metadata": {},
   "outputs": [],
   "source": [
    "df2[\"School Size Ranges\"] = pd.cut(df2[\"Total Students\"],size_bins,labels=labels2)\n",
    "df2.head()"
   ]
  },
  {
   "cell_type": "code",
   "execution_count": null,
   "metadata": {},
   "outputs": [],
   "source": [
    "size_math_scores = df2.groupby([\"School Size Ranges\"])[\"Average maths score\"].mean()\n",
    "size_reading_scores = df2.groupby([\"School Size Ranges\"])[\"Average reading score\"].mean()\n",
    "size_passing_math = df2.groupby([\"School Size Ranges\"])[\"%Passing Maths\"].mean()\n",
    "size_passing_reading = df2.groupby([\"School Size Ranges\"])[\"%Passing Reading\"].mean()\n",
    "size_passing_overall = df2.groupby([\"School Size Ranges\"])[\"% Overall Passing\"].mean()"
   ]
  },
  {
   "cell_type": "code",
   "execution_count": null,
   "metadata": {},
   "outputs": [],
   "source": [
    "#size_summary\n",
    "data_set_size = {\"Average maths score\": size_math_scores, \"Average reading score\":size_reading_scores, \"%passing maths\":size_passing_math, \"% passing reading\": size_passing_reading, \"% overall passing\":size_passing_overall}\n",
    "size_summary_s = pd.DataFrame(data=data_set_size)\n",
    "size_summary = pd.DataFrame(data=data_set_size).style.format({\n",
    "  \"Average maths score\": lambda val: f'{val:,.2f}', \"Average reading score\": lambda val: f'{val:,.2f}',\"%passing maths\": lambda val: f'{val:,.2f}',\"% passing reading\": lambda val: f'{val:,.2f}',\"% overall passing\": lambda val: f'{val:,.2f}'}) \n",
    "size_summary"
   ]
  },
  {
   "cell_type": "code",
   "execution_count": null,
   "metadata": {},
   "outputs": [],
   "source": [
    "type_math_scores = df2.groupby([\"School Type\"])[\"Average maths score\"].mean()\n",
    "type_reading_scores = df2.groupby([\"School Type\"])[\"Average reading score\"].mean()\n",
    "type_passing_math = df2.groupby([\"School Type\"])[\"%Passing Maths\"].mean()\n",
    "type_passing_reading = df2.groupby([\"School Type\"])[\"%Passing Reading\"].mean()\n",
    "type_passing_overall = df2.groupby([\"School Type\"])[\"% Overall Passing\"].mean()"
   ]
  },
  {
   "cell_type": "code",
   "execution_count": null,
   "metadata": {},
   "outputs": [],
   "source": [
    "#type_summary\n",
    "data_set_type = {\"Average maths score\": type_math_scores, \"Average reading score\":type_reading_scores, \"%passing maths\":type_passing_math, \"% passing reading\": type_passing_reading, \"% overall passing\":type_passing_overall}\n",
    "type_summary_s = pd.DataFrame(data=data_set_type)\n",
    "type_summary = pd.DataFrame(data=data_set_type).style.format({\n",
    "  \"Average maths score\": lambda val: f'{val:,.2f}', \"Average reading score\": lambda val: f'{val:,.2f}',\"%passing maths\": lambda val: f'{val:,.2f}',\"% passing reading\": lambda val: f'{val:,.2f}',\"% overall passing\": lambda val: f'{val:,.2f}'}) \n",
    "type_summary"
   ]
  },
  {
   "cell_type": "code",
   "execution_count": null,
   "metadata": {},
   "outputs": [],
   "source": [
    "#export txt\n",
    "path=\"text.txt\" \n",
    "with open(path, 'a') as f:\n",
    "    area_summary_string = area_summary.to_string()\n",
    "    f.write(area_summary_string)"
   ]
  },
  {
   "cell_type": "code",
   "execution_count": null,
   "metadata": {},
   "outputs": [],
   "source": [
    "path=\"text.txt\"\n",
    "with open(path, 'a') as f:\n",
    "    per_school_summary_string = per_school_summary.to_string()\n",
    "    f.write(per_school_summary_string)"
   ]
  },
  {
   "cell_type": "code",
   "execution_count": null,
   "metadata": {},
   "outputs": [],
   "source": [
    "path=\"text.txt\"\n",
    "with open(path, 'a') as f:\n",
    "    top_schools_string = top_schools.to_string()\n",
    "    f.write(top_schools_string)"
   ]
  },
  {
   "cell_type": "code",
   "execution_count": null,
   "metadata": {},
   "outputs": [],
   "source": [
    "path=\"text.txt\"\n",
    "with open(path, 'a') as f:\n",
    "    bottom_schools_string = bottom_schools.to_string()\n",
    "    f.write(bottom_schools_string)"
   ]
  },
  {
   "cell_type": "code",
   "execution_count": null,
   "metadata": {},
   "outputs": [],
   "source": [
    "path=\"text.txt\" \n",
    "with open(path, 'a') as f:\n",
    "    math_score_by_year_string = math_score_by_year.to_string()\n",
    "    f.write(math_score_by_year_string)\n"
   ]
  },
  {
   "cell_type": "code",
   "execution_count": null,
   "metadata": {},
   "outputs": [],
   "source": [
    "path=\"text.txt\" \n",
    "with open(path, 'a') as f:\n",
    "    reading_score_by_year_string = reading_score_by_year.to_string()\n",
    "    f.write(reading_score_by_year_string)"
   ]
  },
  {
   "cell_type": "code",
   "execution_count": null,
   "metadata": {},
   "outputs": [],
   "source": [
    "path=\"text.txt\" \n",
    "with open(path, 'a') as f:\n",
    "    spending_summary_string = spending_summary.to_string()\n",
    "    f.write(spending_summary_string)"
   ]
  },
  {
   "cell_type": "code",
   "execution_count": null,
   "metadata": {},
   "outputs": [],
   "source": [
    "path=\"text.txt\" \n",
    "with open(path, 'a') as f:\n",
    "   size_summary_string = size_summary.to_string()\n",
    "   f.write(size_summary_string)"
   ]
  },
  {
   "cell_type": "code",
   "execution_count": null,
   "metadata": {},
   "outputs": [],
   "source": [
    "path=\"text.txt\" \n",
    "with open(path, 'a') as f:\n",
    "   type_summary_string = type_summary.to_string()\n",
    "   f.write(type_summary_string)"
   ]
  }
 ],
 "metadata": {
  "language_info": {
   "name": "python"
  }
 },
 "nbformat": 4,
 "nbformat_minor": 2
}
