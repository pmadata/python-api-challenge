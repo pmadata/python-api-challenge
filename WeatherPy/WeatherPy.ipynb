{
 "cells": [
  {
   "cell_type": "markdown",
   "metadata": {},
   "source": [
    "# WeatherPy\n",
    "\n",
    "---\n",
    "\n",
    "## Starter Code to Generate Random Geographic Coordinates and a List of Cities"
   ]
  },
  {
   "cell_type": "code",
   "execution_count": 1,
   "metadata": {
    "scrolled": true
   },
   "outputs": [],
   "source": [
    "# Dependencies and Setup\n",
    "import matplotlib.pyplot as plt\n",
    "import pandas as pd\n",
    "import numpy as np\n",
    "import requests\n",
    "import time\n",
    "from scipy import stats\n",
    "from scipy.stats import linregress\n",
    "\n",
    "# Impor the OpenWeatherMap API key\n",
    "from api_keys import weather_api_key\n",
    "\n",
    "# Import citipy to determine the cities based on latitude and longitude\n",
    "from citipy import citipy"
   ]
  },
  {
   "cell_type": "markdown",
   "metadata": {},
   "source": [
    "### Generate the Cities List by Using the `citipy` Library"
   ]
  },
  {
   "cell_type": "code",
   "execution_count": 2,
   "metadata": {},
   "outputs": [
    {
     "name": "stdout",
     "output_type": "stream",
     "text": [
      "Number of cities in the list: 597\n"
     ]
    }
   ],
   "source": [
    "# Empty list for holding the latitude and longitude combinations\n",
    "lat_lngs = []\n",
    "\n",
    "# Empty list for holding the cities names\n",
    "cities = []\n",
    "\n",
    "# Range of latitudes and longitudes\n",
    "lat_range = (-90, 90)\n",
    "lng_range = (-180, 180)\n",
    "\n",
    "# Create a set of random lat and lng combinations\n",
    "lats = np.random.uniform(lat_range[0], lat_range[1], size=1500)\n",
    "lngs = np.random.uniform(lng_range[0], lng_range[1], size=1500)\n",
    "lat_lngs = zip(lats, lngs)\n",
    "\n",
    "# Identify nearest city for each lat, lng combination\n",
    "for lat_lng in lat_lngs:\n",
    "    city = citipy.nearest_city(lat_lng[0], lat_lng[1]).city_name\n",
    "    \n",
    "    # If the city is unique, then add it to a our cities list\n",
    "    if city not in cities:\n",
    "        cities.append(city)\n",
    "\n",
    "# Print the city count to confirm sufficient count\n",
    "print(f\"Number of cities in the list: {len(cities)}\")\n",
    "\n",
    "\n",
    "\n",
    "\n",
    "\n"
   ]
  },
  {
   "cell_type": "markdown",
   "metadata": {},
   "source": [
    "---"
   ]
  },
  {
   "cell_type": "markdown",
   "metadata": {},
   "source": [
    "## Requirement 1: Create Plots to Showcase the Relationship Between Weather Variables and Latitude\n",
    "\n",
    "### Use the OpenWeatherMap API to retrieve weather data from the cities list generated in the started code"
   ]
  },
  {
   "cell_type": "code",
   "execution_count": null,
   "metadata": {},
   "outputs": [],
   "source": [
    "\n"
   ]
  },
  {
   "cell_type": "code",
   "execution_count": null,
   "metadata": {},
   "outputs": [
    {
     "name": "stdout",
     "output_type": "stream",
     "text": [
      "Beginning Data Retrieval     \n",
      "-----------------------------\n",
      "Processing Record 1 of Set 1 | puerto natales\n",
      "Processing Record 2 of Set 1 | stanley\n",
      "Processing Record 3 of Set 1 | nkurenkuru\n",
      "City not found. Skipping...\n",
      "Processing Record 4 of Set 1 | crane\n",
      "Processing Record 5 of Set 1 | severo-yeniseyskiy\n",
      "Processing Record 6 of Set 1 | college\n",
      "Processing Record 7 of Set 1 | waitangi\n",
      "Processing Record 8 of Set 1 | adamstown\n",
      "Processing Record 9 of Set 1 | blackmans bay\n",
      "Processing Record 10 of Set 1 | griffith\n",
      "Processing Record 11 of Set 1 | nangong\n",
      "Processing Record 12 of Set 1 | talnakh\n",
      "Processing Record 13 of Set 1 | oranjemund\n",
      "Processing Record 14 of Set 1 | puerto baquerizo moreno\n",
      "Processing Record 15 of Set 1 | port-aux-francais\n",
      "Processing Record 16 of Set 1 | olonkinbyen\n",
      "Processing Record 17 of Set 1 | saipan\n",
      "Processing Record 18 of Set 1 | puerto ayora\n",
      "Processing Record 19 of Set 1 | robertsport\n",
      "Processing Record 20 of Set 1 | kyren\n",
      "Processing Record 21 of Set 1 | dudinka\n",
      "Processing Record 22 of Set 1 | iqaluit\n",
      "Processing Record 23 of Set 1 | albany\n",
      "Processing Record 24 of Set 1 | klyuchi\n",
      "Processing Record 25 of Set 1 | edinburgh of the seven seas\n",
      "Processing Record 26 of Set 1 | port mathurin\n",
      "Processing Record 27 of Set 1 | yuzhno-kurilsk\n",
      "Processing Record 28 of Set 1 | port saint john's\n",
      "Processing Record 29 of Set 1 | toledo\n",
      "Processing Record 30 of Set 1 | arraial do cabo\n",
      "Processing Record 31 of Set 1 | mumbwa\n",
      "Processing Record 32 of Set 1 | bethel\n",
      "Processing Record 33 of Set 1 | aykhal\n",
      "Processing Record 34 of Set 1 | kerikeri\n",
      "Processing Record 35 of Set 1 | anchorage\n",
      "Processing Record 36 of Set 1 | belyy yar\n",
      "Processing Record 37 of Set 1 | hamilton\n",
      "Processing Record 38 of Set 1 | avarua\n",
      "Processing Record 39 of Set 1 | puerto armuelles\n",
      "Processing Record 40 of Set 1 | tobelo\n",
      "Processing Record 41 of Set 1 | loukhi\n",
      "Processing Record 42 of Set 1 | yellowknife\n",
      "Processing Record 43 of Set 1 | namibe\n",
      "Processing Record 44 of Set 1 | alofi\n",
      "Processing Record 45 of Set 1 | tual\n",
      "Processing Record 46 of Set 1 | bilibino\n",
      "Processing Record 47 of Set 1 | chonchi\n",
      "Processing Record 48 of Set 1 | tiksi\n",
      "Processing Record 49 of Set 1 | selfoss\n",
      "Processing Record 50 of Set 1 | ushuaia\n",
      "Processing Record 0 of Set 2 | hawaiian paradise park\n",
      "Processing Record 1 of Set 2 | kodiak\n",
      "Processing Record 2 of Set 2 | bredasdorp\n",
      "Processing Record 3 of Set 2 | grytviken\n",
      "Processing Record 4 of Set 2 | volda\n",
      "Processing Record 5 of Set 2 | taiohae\n",
      "City not found. Skipping...\n",
      "Processing Record 6 of Set 2 | vilyuchinsk\n",
      "Processing Record 7 of Set 2 | bereznik\n",
      "Processing Record 8 of Set 2 | wailua homesteads\n",
      "Processing Record 9 of Set 2 | hilo\n",
      "Processing Record 10 of Set 2 | ancud\n",
      "Processing Record 11 of Set 2 | embrun\n",
      "Processing Record 12 of Set 2 | flin flon\n",
      "Processing Record 13 of Set 2 | fuyu\n",
      "Processing Record 14 of Set 2 | west island\n",
      "Processing Record 15 of Set 2 | aripuana\n",
      "Processing Record 16 of Set 2 | kainan\n",
      "Processing Record 17 of Set 2 | afaahiti\n",
      "Processing Record 18 of Set 2 | polyarnyy\n",
      "Processing Record 19 of Set 2 | iskateley\n",
      "Processing Record 20 of Set 2 | mount pearl\n",
      "Processing Record 21 of Set 2 | margaret river\n",
      "Processing Record 22 of Set 2 | la ronge\n",
      "Processing Record 23 of Set 2 | makurdi\n",
      "Processing Record 24 of Set 2 | galashiels\n"
     ]
    }
   ],
   "source": [
    "# Set the API base URL\n",
    "url = \"https://api.openweathermap.org/data/2.5/weather?units=Metric&APPID=\" + weather_api_key\n",
    "\n",
    "# Define an empty list to fetch the weather data for each city\n",
    "city_data = []\n",
    "\n",
    "# Print to logger\n",
    "print(\"Beginning Data Retrieval     \")\n",
    "print(\"-----------------------------\")\n",
    "\n",
    "# Create counters\n",
    "record_count = 1\n",
    "set_count = 1\n",
    "\n",
    "# Loop through all the cities in our list to fetch weather data\n",
    "for i, city in enumerate(cities):\n",
    "        \n",
    "    # Group cities in sets of 50 for logging purposes\n",
    "    if (i % 50 == 0 and i >= 50):\n",
    "        set_count += 1\n",
    "        record_count = 0\n",
    "\n",
    "    # Create endpoint URL with each city\n",
    "    city_url = url+\"&q=\"+city\n",
    "    \n",
    "    # Log the url, record, and set numbers\n",
    "    print(\"Processing Record %s of Set %s | %s\" % (record_count, set_count, city))\n",
    "\n",
    "    # Add 1 to the record count\n",
    "    record_count += 1\n",
    "\n",
    "    # Run an API request for each of the cities\n",
    "    try:\n",
    "        # Parse the JSON and retrieve data\n",
    "        city_weather = requests.get(city_url).json()\n",
    "        #response = requests.get(city_url + city).json()\n",
    "  \n",
    "\n",
    "        # Parse out latitude, longitude, max temp, humidity, cloudiness, wind speed, country, and date\n",
    "        city_lat = city_weather['coord']['lat']\n",
    "        city_lng = city_weather['coord']['lon']\n",
    "        city_max_temp = city_weather['main']['temp_max']\n",
    "        city_humidity = city_weather['main']['humidity']\n",
    "        city_clouds = city_weather['clouds']['all']\n",
    "        city_wind = city_weather['wind']['speed']\n",
    "        city_country = city_weather['sys']['country']\n",
    "        city_date = city_weather['dt']\n",
    "\n",
    "        # Append the City information into city_data list\n",
    "        city_data.append({\"City\": city, \n",
    "                          \"Lat\": city_lat, \n",
    "                          \"Lng\": city_lng, \n",
    "                          \"Max Temp\": city_max_temp,\n",
    "                          \"Humidity\": city_humidity,\n",
    "                          \"Cloudiness\": city_clouds,\n",
    "                          \"Wind Speed\": city_wind,\n",
    "                          \"Country\": city_country,\n",
    "                          \"Date\": city_date})\n",
    "\n",
    "    # If an error is experienced, skip the city\n",
    "    except:\n",
    "        print(\"City not found. Skipping...\")\n",
    "        pass\n",
    "              \n",
    "# Indicate that Data Loading is complete \n",
    "print(\"-----------------------------\")\n",
    "print(\"Data Retrieval Complete      \")\n",
    "print(\"-----------------------------\")"
   ]
  },
  {
   "cell_type": "code",
   "execution_count": null,
   "metadata": {},
   "outputs": [],
   "source": [
    "# Convert the cities weather data into a Pandas DataFrame\n",
    "city_data_df = pd.DataFrame(city_data)\n",
    "\n",
    "# Show Record Count\n",
    "city_data_df.count()"
   ]
  },
  {
   "cell_type": "code",
   "execution_count": null,
   "metadata": {},
   "outputs": [],
   "source": [
    "# Display sample data\n",
    "city_data_df.head()"
   ]
  },
  {
   "cell_type": "code",
   "execution_count": null,
   "metadata": {},
   "outputs": [],
   "source": [
    "# Export the City_Data into a csv\n",
    "city_data_df.to_csv(\"cities.csv\", index_label=\"City_ID\")"
   ]
  },
  {
   "cell_type": "code",
   "execution_count": null,
   "metadata": {},
   "outputs": [],
   "source": [
    "# Read saved data\n",
    "city_data_df = pd.read_csv(\"cities.csv\", index_col=\"City_ID\")\n",
    "\n",
    "# Display sample data\n",
    "city_data_df.head()"
   ]
  },
  {
   "cell_type": "markdown",
   "metadata": {},
   "source": [
    "### Create the Scatter Plots Requested\n",
    "\n",
    "#### Latitude Vs. Temperature"
   ]
  },
  {
   "cell_type": "code",
   "execution_count": null,
   "metadata": {
    "tags": []
   },
   "outputs": [],
   "source": [
    "# Build a scatter plot for each data type\n",
    "plt.scatter(city_data_df[\"Lat\"], city_data_df[\"Max Temp\"], marker=\"o\")\n",
    "x_value1 = city_data_df[\"Lat\"]\n",
    "y_value1 = city_data_df[\"Max Temp\"]\n",
    "\n",
    "# Incorporate the other graph properties\n",
    "plt.title(\"City Max Latitude vs. Temperature \")\n",
    "plt.ylabel(\"Max Temperature (C)\")\n",
    "plt.xlabel(\"Latitude\")\n",
    "plt.grid(True)\n",
    "\n",
    "# Save the figure\n",
    "plt.savefig(\"Fig1.png\")\n",
    "\n",
    "# Show plot\n",
    "plt.show()"
   ]
  },
  {
   "cell_type": "markdown",
   "metadata": {},
   "source": [
    "#### Latitude Vs. Humidity"
   ]
  },
  {
   "cell_type": "code",
   "execution_count": null,
   "metadata": {},
   "outputs": [],
   "source": [
    "plt.scatter(city_data_df[\"Lat\"], city_data_df[\"Humidity\"], marker=\"o\")\n",
    "x_value2 = city_data_df[\"Lat\"]\n",
    "y_value2 = city_data_df[\"Humidity\"]\n",
    "# Incorporate the other graph properties\n",
    "plt.title(\"City Max Latitude vs. Humidity \")\n",
    "plt.ylabel(\"Humidity\")\n",
    "plt.xlabel(\"Latitude\")\n",
    "plt.grid(True)\n",
    "\n",
    "# Save the figure\n",
    "plt.savefig(\"Fig2.png\")\n",
    "\n",
    "# Show plot\n",
    "plt.show()"
   ]
  },
  {
   "cell_type": "markdown",
   "metadata": {},
   "source": [
    "#### Latitude Vs. Cloudiness"
   ]
  },
  {
   "cell_type": "code",
   "execution_count": null,
   "metadata": {},
   "outputs": [],
   "source": [
    "plt.scatter(city_data_df[\"Lat\"], city_data_df[\"Cloudiness\"], marker=\"o\")\n",
    "x_value3 = city_data_df[\"Lat\"]\n",
    "y_value3 = city_data_df[\"Cloudiness\"]\n",
    "# Incorporate the other graph properties\n",
    "plt.title(\"City Max Latitude vs. CLoudiness \")\n",
    "plt.ylabel(\"Cloudiness\")\n",
    "plt.xlabel(\"Latitude\")\n",
    "plt.grid(True)\n",
    "\n",
    "# Save the figure\n",
    "plt.savefig(\"Fig3.png\")\n",
    "\n",
    "# Show plot\n",
    "plt.show()"
   ]
  },
  {
   "cell_type": "markdown",
   "metadata": {},
   "source": [
    "#### Latitude vs. Wind Speed Plot"
   ]
  },
  {
   "cell_type": "code",
   "execution_count": null,
   "metadata": {},
   "outputs": [],
   "source": [
    "plt.scatter(city_data_df[\"Lat\"], city_data_df[\"Wind Speed\"], marker=\"o\")\n",
    "x_value4 = city_data_df[\"Lat\"]\n",
    "y_value4 = city_data_df[\"Wind Speed\"]\n",
    "# Incorporate the other graph properties\n",
    "plt.title(\"City Max Latitude vs. Wind Speed \")\n",
    "plt.ylabel(\"Wind Speed\")\n",
    "plt.xlabel(\"Latitude\")\n",
    "plt.grid(True)\n",
    "\n",
    "# Save the figure\n",
    "plt.savefig(\"Fig4.png\")\n",
    "\n",
    "# Show plot\n",
    "plt.show()"
   ]
  },
  {
   "cell_type": "markdown",
   "metadata": {},
   "source": [
    "---\n",
    "\n",
    "## Requirement 2: Compute Linear Regression for Each Relationship\n"
   ]
  },
  {
   "cell_type": "code",
   "execution_count": null,
   "metadata": {},
   "outputs": [],
   "source": [
    "#regression for Max temp\n",
    "(slope, intercept, rvalue, pvalue, stderr) = stats.linregress(x_value1, y_value1)\n",
    "print ((slope, intercept, rvalue, pvalue, stderr))"
   ]
  },
  {
   "cell_type": "code",
   "execution_count": null,
   "metadata": {},
   "outputs": [],
   "source": [
    "# Get regression values\n",
    "regress_values = x_value1 * slope + intercept\n",
    "print(regress_values)"
   ]
  },
  {
   "cell_type": "code",
   "execution_count": null,
   "metadata": {},
   "outputs": [],
   "source": [
    "# Create line equation string\n",
    "line_eq1 = \"y = \" + str(round(slope,2)) + \"x +\" + str(round(intercept,2))\n",
    "print(line_eq1)"
   ]
  },
  {
   "cell_type": "code",
   "execution_count": null,
   "metadata": {},
   "outputs": [],
   "source": [
    "\n",
    "plt.scatter(x_value1,y_value1)\n",
    "plt.plot(x_value1,regress_values,\"r-\")\n",
    "\n",
    "# Label plot and annotate the line equation\n",
    "plt.xlabel('Latitude')\n",
    "plt.ylabel('Max Temp')\n",
    "plt.annotate(line_eq1,(-40,-10),fontsize=15,color=\"red\")\n",
    "\n",
    "# Print r value\n",
    "print(f\"The r-value is: {rvalue**2}\")\n",
    "\n",
    "# Show plot\n",
    "plt.show()"
   ]
  },
  {
   "cell_type": "code",
   "execution_count": null,
   "metadata": {},
   "outputs": [],
   "source": [
    "# Line Regression Humidity vs Lat\n",
    "(slope, intercept, rvalue, pvalue, stderr) = stats.linregress(x_value2, y_value2)\n",
    "print ((slope, intercept, rvalue, pvalue, stderr))\n",
    "regress_values = x_value2 * slope + intercept\n",
    "# Create line equation string\n",
    "line_eq2 = \"y = \" + str(round(slope,2)) + \"x +\" + str(round(intercept,2))\n",
    "print(line_eq2)\n",
    "print(regress_values)\n"
   ]
  },
  {
   "cell_type": "code",
   "execution_count": null,
   "metadata": {},
   "outputs": [],
   "source": [
    "#Line Regresasion Cloudiness vs Lat\n",
    "(slope, intercept, rvalue, pvalue, stderr) = stats.linregress(x_value3, y_value3)\n",
    "print ((slope, intercept, rvalue, pvalue, stderr))\n",
    "regress_values = x_value3 * slope + intercept\n",
    "# Create line equation string\n",
    "line_eq3 = \"y = \" + str(round(slope,2)) + \"x +\" + str(round(intercept,2))\n",
    "print(line_eq3)\n",
    "print(regress_values)\n"
   ]
  },
  {
   "cell_type": "code",
   "execution_count": null,
   "metadata": {},
   "outputs": [],
   "source": [
    "#Line Regression for Wind Speed vs Lat\n",
    "(slope, intercept, rvalue, pvalue, stderr) = stats.linregress(x_value4, y_value4)\n",
    "print ((slope, intercept, rvalue, pvalue, stderr))\n",
    "regress_values = x_value4 * slope + intercept\n",
    "# Create line equation string\n",
    "line_eq4 = \"y = \" + str(round(slope,2)) + \"x +\" + str(round(intercept,2))\n",
    "print(line_eq4)\n",
    "print(regress_values)\n"
   ]
  },
  {
   "cell_type": "code",
   "execution_count": null,
   "metadata": {},
   "outputs": [],
   "source": [
    "# Create a DataFrame with the Northern Hemisphere data (Latitude >= 0)\n",
    "northern_hemi_df = city_data_df[city_data_df[\"Lat\"] >= 0]\n",
    "\n",
    "# Display sample data\n",
    "northern_hemi_df.head()"
   ]
  },
  {
   "cell_type": "code",
   "execution_count": null,
   "metadata": {},
   "outputs": [],
   "source": [
    "# Create a DataFrame with the Southern Hemisphere data (Latitude < 0)\n",
    "southern_hemi_df = city_data_df[city_data_df[\"Lat\"] < 0]\n",
    "\n",
    "# Display sample data\n",
    "southern_hemi_df.head()"
   ]
  },
  {
   "cell_type": "markdown",
   "metadata": {},
   "source": [
    "###  Temperature vs. Latitude Linear Regression Plot"
   ]
  },
  {
   "cell_type": "code",
   "execution_count": null,
   "metadata": {},
   "outputs": [],
   "source": [
    "# Temperature vs. Latitute on Northern Hemisphere\n",
    "# Build a scatter plot for each data type\n",
    "plt.scatter(northern_hemi_df[\"Lat\"], northern_hemi_df[\"Max Temp\"], marker=\"o\")\n",
    "\n",
    "x_value1 = northern_hemi_df[\"Lat\"]\n",
    "y_value1 = northern_hemi_df[\"Max Temp\"]\n",
    "\n",
    "(slope, intercept, rvalue, pvalue, stderr) = stats.linregress(x_value1, y_value1)\n",
    "regress_values = x_value1 * slope + intercept\n",
    "\n",
    "plt.plot(x_value1,regress_values,\"r-\")\n",
    "\n",
    "# Create line equation string\n",
    "line_eq1 = \"y = \" + str(round(slope,2)) + \"x +\" + str(round(intercept,2))\n",
    "print(line_eq1)\n",
    "print(regress_values)\n",
    "\n",
    "# Incorporate the other graph properties\n",
    "plt.title(\"City Max Latitude vs. Temperature - North Hemisphere \")\n",
    "plt.ylabel(\"Max Temp (C)\")\n",
    "plt.xlabel(\"Latitude\")\n",
    "plt.annotate(line_eq1,(0,-10),fontsize=15,color=\"red\")\n",
    "print(f\"The r-value is: {rvalue**2}\")\n",
    "\n",
    "plt.grid(True)\n",
    "\n",
    "# Save the figure\n",
    "plt.savefig(\"RegresNorth-1.png\")\n",
    "\n",
    "# Show plot\n",
    "plt.show()"
   ]
  },
  {
   "cell_type": "code",
   "execution_count": null,
   "metadata": {},
   "outputs": [],
   "source": [
    "# Linear regression on Southern Hemisphere\n",
    "plt.scatter(southern_hemi_df[\"Lat\"], southern_hemi_df[\"Max Temp\"], marker=\"o\")\n",
    "\n",
    "\n",
    "x_value2 = southern_hemi_df[\"Lat\"]\n",
    "y_value2 = southern_hemi_df[\"Max Temp\"]\n",
    "\n",
    "(slope, intercept, rvalue, pvalue, stderr) = stats.linregress(x_value2, y_value2)\n",
    "regress_values = x_value2 * slope + intercept\n",
    "\n",
    "plt.plot(x_value2,regress_values,\"r-\")\n",
    "\n",
    "print (regress_values)\n",
    "print (x_value2)\n",
    "\n",
    "line_eq2 = \"y = \" + str(round(slope,2)) + \"x +\" + str(round(intercept,2))\n",
    "\n",
    "# Incorporate the other graph properties\n",
    "plt.title(\"City Max Latitude vs. Temperature - South Hemisphere \")\n",
    "plt.ylabel(\"Max Temp (C)\")\n",
    "plt.xlabel(\"Latitude\")\n",
    "plt.annotate(line_eq2,(-30,5),fontsize=15,color=\"red\")\n",
    "print(f\"The r-value is: {rvalue**2}\")\n",
    "\n",
    "plt.grid(True)\n",
    "\n",
    "# Save the figure\n",
    "plt.savefig(\"RegresSouth-1.png\")\n",
    "\n",
    "# Show plot\n",
    "plt.show()"
   ]
  },
  {
   "cell_type": "markdown",
   "metadata": {},
   "source": [
    "**Discussion about the linear relationship:** As you get closer to the Equator line the Temperatures increase, showed by a negative relationship between Max Temp and Latitute on the North Hemisphere and a positive relationship between Max Temp and Latitute in the South Hemisphere. "
   ]
  },
  {
   "cell_type": "markdown",
   "metadata": {},
   "source": [
    "### Humidity vs. Latitude Linear Regression Plot"
   ]
  },
  {
   "cell_type": "code",
   "execution_count": null,
   "metadata": {},
   "outputs": [],
   "source": [
    "# Northern Hemisphere\n",
    "plt.scatter(northern_hemi_df[\"Lat\"], northern_hemi_df[\"Humidity\"], marker=\"o\")\n",
    "\n",
    "x_value3 = northern_hemi_df[\"Lat\"]\n",
    "y_value3 = northern_hemi_df[\"Humidity\"]\n",
    "\n",
    "(slope, intercept, rvalue, pvalue, stderr) = stats.linregress(x_value3, y_value3)\n",
    "regress_values = x_value3 * slope + intercept\n",
    "\n",
    "plt.plot(x_value3,regress_values,\"r-\")\n",
    "\n",
    "print (regress_values)\n",
    "print (x_value3)\n",
    "\n",
    "# Create line equation string\n",
    "line_eq3 = \"y = \" + str(round(slope,2)) + \"x +\" + str(round(intercept,2))\n",
    "print(line_eq3)\n",
    "\n",
    "# Incorporate the other graph properties\n",
    "plt.title(\"City Max Latitude vs. Humidity - North Hemisphere\")\n",
    "plt.ylabel(\"Humidity\")\n",
    "plt.xlabel(\"Latitude\")\n",
    "plt.annotate(line_eq3,(45,20),fontsize=15,color=\"red\")\n",
    "print(f\"The r-value is: {rvalue**2}\")\n",
    "\n",
    "plt.grid(True)\n",
    "\n",
    "# Save the figure\n",
    "plt.savefig(\"RegresNorth-2.png\")\n",
    "\n",
    "# Show plot\n",
    "plt.show()"
   ]
  },
  {
   "cell_type": "code",
   "execution_count": null,
   "metadata": {},
   "outputs": [],
   "source": [
    "# Southern Hemisphere\n",
    "plt.scatter(southern_hemi_df[\"Lat\"], southern_hemi_df[\"Humidity\"], marker=\"o\")\n",
    "x_value4 = southern_hemi_df[\"Lat\"]\n",
    "y_value4 = southern_hemi_df[\"Humidity\"]\n",
    "\n",
    "(slope, intercept, rvalue, pvalue, stderr) = stats.linregress(x_value4, y_value4)\n",
    "regress_values = x_value4 * slope + intercept\n",
    "\n",
    "plt.plot(x_value4,regress_values,\"r-\")\n",
    "\n",
    "print (regress_values)\n",
    "print (x_value4)\n",
    "\n",
    "# Create line equation string\n",
    "line_eq4 = \"y = \" + str(round(slope,2)) + \"x +\" + str(round(intercept,2))\n",
    "print(line_eq4)\n",
    "\n",
    "# Incorporate the other graph properties\n",
    "plt.title(\"City Max Latitude vs. Humidity - South Hemisphere\")\n",
    "plt.ylabel(\"Humidity\")\n",
    "plt.xlabel(\"Latitude\")\n",
    "plt.annotate(line_eq4,(-53,57), fontsize=15,color=\"red\")\n",
    "\n",
    "print(f\"The r-value is: {rvalue**2}\")\n",
    "\n",
    "plt.grid(True)\n",
    "\n",
    "# Save the figure\n",
    "plt.savefig(\"RegresSouth-2.png\")\n",
    "\n",
    "# Show plot\n",
    "plt.show()"
   ]
  },
  {
   "cell_type": "markdown",
   "metadata": {},
   "source": [
    "**Discussion about the linear relationship:** In the North Hemisphere the is a soft posivite correlation between latitute and humidity, but it is not possible to define a linear relatioship between humidity and latitute in the south hemisphere."
   ]
  },
  {
   "cell_type": "markdown",
   "metadata": {},
   "source": [
    "### Cloudiness vs. Latitude Linear Regression Plot"
   ]
  },
  {
   "cell_type": "code",
   "execution_count": null,
   "metadata": {},
   "outputs": [],
   "source": [
    "# Northern Hemisphere\n",
    "plt.scatter(northern_hemi_df[\"Lat\"], northern_hemi_df[\"Cloudiness\"], marker=\"o\")\n",
    "\n",
    "x_value5 = northern_hemi_df[\"Lat\"]\n",
    "y_value5 = northern_hemi_df[\"Cloudiness\"]\n",
    "\n",
    "(slope, intercept, rvalue, pvalue, stderr) = stats.linregress(x_value5, y_value5)\n",
    "regress_values = x_value5 * slope + intercept\n",
    "\n",
    "\n",
    "plt.plot(x_value5,regress_values,\"r-\")\n",
    "\n",
    "print (regress_values)\n",
    "print (x_value5)\n",
    "\n",
    "# Create line equation string\n",
    "line_eq5 = \"y = \" + str(round(slope,2)) + \"x +\" + str(round(intercept,2))\n",
    "print(line_eq5)\n",
    "\n",
    "# Incorporate the other graph properties\n",
    "plt.title(\"City Max Latitude vs. Cloudiness - North Hemisphere\")\n",
    "plt.ylabel(\"Cloudiness\")\n",
    "plt.xlabel(\"Latitude\")\n",
    "plt.annotate(line_eq5,(20,60),fontsize=15,color=\"red\")\n",
    "print(f\"The r-value is: {rvalue**2}\")\n",
    "\n",
    "plt.grid(True)\n",
    "\n",
    "# Save the figure\n",
    "plt.savefig(\"RegresNorth-3.png\")\n",
    "\n",
    "# Show plot\n",
    "plt.show()"
   ]
  },
  {
   "cell_type": "code",
   "execution_count": null,
   "metadata": {},
   "outputs": [],
   "source": [
    "# Southern Hemisphere\n",
    "plt.scatter(southern_hemi_df[\"Lat\"], southern_hemi_df[\"Cloudiness\"], marker=\"o\")\n",
    "x_value6 = southern_hemi_df[\"Lat\"]\n",
    "y_value6 = southern_hemi_df[\"Cloudiness\"]\n",
    "\n",
    "(slope, intercept, rvalue, pvalue, stderr) = stats.linregress(x_value6, y_value6)\n",
    "regress_values = x_value6 * slope + intercept\n",
    "\n",
    "plt.plot(x_value6,regress_values,\"r-\")\n",
    "\n",
    "print (regress_values)\n",
    "print (x_value6)\n",
    "\n",
    "# Create line equation string\n",
    "line_eq6 = \"y = \" + str(round(slope,2)) + \"x +\" + str(round(intercept,2))\n",
    "print(line_eq6)\n",
    "\n",
    "# Incorporate the other graph properties\n",
    "plt.title(\"City Max Latitude vs. Cloudiness - South Hemisphere\")\n",
    "plt.ylabel(\"Cloudiness\")\n",
    "plt.xlabel(\"Latitude\")\n",
    "plt.annotate(line_eq6,(-53,55),fontsize=15,color=\"red\")\n",
    "print(f\"The r-value is: {rvalue**2}\")\n",
    "\n",
    "plt.grid(True)\n",
    "\n",
    "# Save the figure\n",
    "plt.savefig(\"RegresSouth-3.png\")\n",
    "\n",
    "# Show plot\n",
    "plt.show()"
   ]
  },
  {
   "cell_type": "markdown",
   "metadata": {},
   "source": [
    "**Discussion about the linear relationship:** Cloudiness does not correlate with latitute regardles in any hemisphere. "
   ]
  },
  {
   "cell_type": "markdown",
   "metadata": {},
   "source": [
    "### Wind Speed vs. Latitude Linear Regression Plot"
   ]
  },
  {
   "cell_type": "code",
   "execution_count": null,
   "metadata": {},
   "outputs": [],
   "source": [
    "# Northern Hemisphere\n",
    "plt.scatter(northern_hemi_df[\"Lat\"], northern_hemi_df[\"Wind Speed\"], marker=\"o\")\n",
    "x_value7 = northern_hemi_df[\"Lat\"]\n",
    "y_value7 = northern_hemi_df[\"Wind Speed\"]\n",
    "\n",
    "(slope, intercept, rvalue, pvalue, stderr) = stats.linregress(x_value7, y_value7)\n",
    "regress_values = x_value7 * slope + intercept\n",
    "\n",
    "\n",
    "plt.plot(x_value7,regress_values,\"r-\")\n",
    "\n",
    "print (regress_values)\n",
    "print (x_value7)\n",
    "\n",
    "# Create line equation string\n",
    "line_eq7 = \"y = \" + str(round(slope,2)) + \"x +\" + str(round(intercept,2))\n",
    "print(line_eq7)\n",
    "\n",
    "# Incorporate the other graph properties\n",
    "plt.title(\"City Max Latitude vs. Wind Speed - North Hemisphere\")\n",
    "plt.ylabel(\"Wind Speed\")\n",
    "plt.xlabel(\"Latitude\")\n",
    "plt.annotate(line_eq7,(0,13),fontsize=15,color=\"red\")\n",
    "print(f\"The r-value is: {rvalue**2}\")\n",
    "\n",
    "plt.grid(True)\n",
    "\n",
    "# Save the figure\n",
    "plt.savefig(\"RegresNorth-4.png\")\n",
    "\n",
    "# Show plot\n",
    "plt.show()"
   ]
  },
  {
   "cell_type": "code",
   "execution_count": null,
   "metadata": {},
   "outputs": [],
   "source": [
    "# Southern Hemisphere\n",
    "plt.scatter(southern_hemi_df[\"Lat\"], southern_hemi_df[\"Wind Speed\"], marker=\"o\")\n",
    "\n",
    "x_value8 = southern_hemi_df[\"Lat\"]\n",
    "y_value8 = southern_hemi_df[\"Wind Speed\"]\n",
    "\n",
    "(slope, intercept, rvalue, pvalue, stderr) = stats.linregress(x_value8, y_value8)\n",
    "regress_values = x_value8 * slope + intercept\n",
    "\n",
    "plt.plot(x_value8,regress_values,\"r-\")\n",
    "\n",
    "print (regress_values)\n",
    "print (x_value8)\n",
    "\n",
    "# Create line equation string\n",
    "line_eq8 = \"y = \" + str(round(slope,2)) + \"x +\" + str(round(intercept,2))\n",
    "print(line_eq8)\n",
    "\n",
    "# Incorporate the other graph properties\n",
    "plt.title(\"City Max Latitude vs. Wind Speed - South Hemisphere\")\n",
    "plt.ylabel(\"Wind Speed\")\n",
    "plt.xlabel(\"Latitude\")\n",
    "plt.annotate(line_eq8,(-30,12),fontsize=15,color=\"red\")\n",
    "print(f\"The r-value is: {rvalue**2}\")\n",
    "\n",
    "plt.grid(True)\n",
    "\n",
    "# Save the figure\n",
    "plt.savefig(\"RegresSouth-4.png\")\n",
    "\n",
    "# Show plot\n",
    "plt.show()"
   ]
  },
  {
   "cell_type": "markdown",
   "metadata": {},
   "source": [
    "**Discussion about the linear relationship:** wind Speed does not fluctuate much on the latitutes evaluated for the north hemisphere and there is more of a variation in the south hemisphere with a tendancy of slower wind speen closer to the equador line. "
   ]
  },
  {
   "cell_type": "code",
   "execution_count": null,
   "metadata": {},
   "outputs": [],
   "source": []
  },
  {
   "cell_type": "code",
   "execution_count": null,
   "metadata": {},
   "outputs": [],
   "source": []
  },
  {
   "cell_type": "code",
   "execution_count": null,
   "metadata": {},
   "outputs": [],
   "source": []
  }
 ],
 "metadata": {
  "anaconda-cloud": {},
  "kernel_info": {
   "name": "python3"
  },
  "kernelspec": {
   "display_name": "Python 3 (ipykernel)",
   "language": "python",
   "name": "python3"
  },
  "language_info": {
   "codemirror_mode": {
    "name": "ipython",
    "version": 3
   },
   "file_extension": ".py",
   "mimetype": "text/x-python",
   "name": "python",
   "nbconvert_exporter": "python",
   "pygments_lexer": "ipython3",
   "version": "3.11.5"
  },
  "latex_envs": {
   "LaTeX_envs_menu_present": true,
   "autoclose": false,
   "autocomplete": true,
   "bibliofile": "biblio.bib",
   "cite_by": "apalike",
   "current_citInitial": 1,
   "eqLabelWithNumbers": true,
   "eqNumInitial": 1,
   "hotkeys": {
    "equation": "Ctrl-E",
    "itemize": "Ctrl-I"
   },
   "labels_anchors": false,
   "latex_user_defs": false,
   "report_style_numbering": false,
   "user_envs_cfg": false
  },
  "nteract": {
   "version": "0.12.3"
  }
 },
 "nbformat": 4,
 "nbformat_minor": 4
}
